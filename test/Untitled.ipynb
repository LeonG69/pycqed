{
 "cells": [
  {
   "cell_type": "code",
   "execution_count": 1,
   "metadata": {},
   "outputs": [],
   "source": [
    "import numpy as np\n",
    "import sympy as sy"
   ]
  },
  {
   "cell_type": "code",
   "execution_count": 2,
   "metadata": {},
   "outputs": [],
   "source": [
    "P = sy.Matrix([sy.symbols(\"N_{%i}\"%(i+1)) for i in range(7)])"
   ]
  },
  {
   "cell_type": "code",
   "execution_count": 3,
   "metadata": {},
   "outputs": [
    {
     "data": {
      "text/latex": [
       "$\\displaystyle \\left[\\begin{matrix}N_{1}\\\\N_{2}\\\\N_{3}\\\\N_{4}\\\\N_{5}\\\\N_{6}\\\\N_{7}\\end{matrix}\\right]$"
      ],
      "text/plain": [
       "Matrix([\n",
       "[N_{1}],\n",
       "[N_{2}],\n",
       "[N_{3}],\n",
       "[N_{4}],\n",
       "[N_{5}],\n",
       "[N_{6}],\n",
       "[N_{7}]])"
      ]
     },
     "execution_count": 3,
     "metadata": {},
     "output_type": "execute_result"
    }
   ],
   "source": [
    "P"
   ]
  },
  {
   "cell_type": "code",
   "execution_count": 14,
   "metadata": {},
   "outputs": [
    {
     "data": {
      "text/latex": [
       "$\\displaystyle \\left[\\begin{matrix}N_{l}\\\\N_{\\delta}\\\\N_{p}\\\\N_{R}\\\\N_{L}\\\\N_{J}\\\\N_{I}\\end{matrix}\\right]$"
      ],
      "text/plain": [
       "Matrix([\n",
       "[     N_l],\n",
       "[N_\\delta],\n",
       "[     N_p],\n",
       "[     N_R],\n",
       "[     N_L],\n",
       "[     N_J],\n",
       "[     N_I]])"
      ]
     },
     "execution_count": 14,
     "metadata": {},
     "output_type": "execute_result"
    }
   ],
   "source": [
    "Pm = sy.Matrix([sy.symbols(\"N_l N_\\delta N_p N_R N_L N_J N_I\")]).T\n",
    "Pm"
   ]
  },
  {
   "cell_type": "code",
   "execution_count": 4,
   "metadata": {},
   "outputs": [],
   "source": [
    "R = sy.Matrix(\n",
    "    np.matrix([\n",
    "        [-1 ,0 ,0.5, 0.5, -0.5, -0.5, 1],\n",
    "        [0, 0, 0.5, 0.5, -0.5, -0.5, 0],\n",
    "        [0.5, 0, -0.25, -0.25, -0.25, -0.25, 0.5],\n",
    "        [0, 0, 0, 0, -1, 1, 0],\n",
    "        [0, 0, 1, -1, 0, 0, 0],\n",
    "        [0, 1, -0.25, -0.25, -0.25, -0.25, 0],\n",
    "        [0, 1, 0, 0, 0, 0, 0]\n",
    "    ])\n",
    ")"
   ]
  },
  {
   "cell_type": "code",
   "execution_count": 5,
   "metadata": {},
   "outputs": [
    {
     "data": {
      "text/latex": [
       "$\\displaystyle \\left[\\begin{matrix}- 1.0 N_{1} + 0.5 N_{3} + 0.5 N_{4} - 0.5 N_{5} - 0.5 N_{6} + 1.0 N_{7}\\\\0.5 N_{3} + 0.5 N_{4} - 0.5 N_{5} - 0.5 N_{6}\\\\0.5 N_{1} - 0.25 N_{3} - 0.25 N_{4} - 0.25 N_{5} - 0.25 N_{6} + 0.5 N_{7}\\\\- 1.0 N_{5} + 1.0 N_{6}\\\\1.0 N_{3} - 1.0 N_{4}\\\\1.0 N_{2} - 0.25 N_{3} - 0.25 N_{4} - 0.25 N_{5} - 0.25 N_{6}\\\\1.0 N_{2}\\end{matrix}\\right]$"
      ],
      "text/plain": [
       "Matrix([\n",
       "[   -1.0*N_{1} + 0.5*N_{3} + 0.5*N_{4} - 0.5*N_{5} - 0.5*N_{6} + 1.0*N_{7}],\n",
       "[                            0.5*N_{3} + 0.5*N_{4} - 0.5*N_{5} - 0.5*N_{6}],\n",
       "[0.5*N_{1} - 0.25*N_{3} - 0.25*N_{4} - 0.25*N_{5} - 0.25*N_{6} + 0.5*N_{7}],\n",
       "[                                                   -1.0*N_{5} + 1.0*N_{6}],\n",
       "[                                                    1.0*N_{3} - 1.0*N_{4}],\n",
       "[            1.0*N_{2} - 0.25*N_{3} - 0.25*N_{4} - 0.25*N_{5} - 0.25*N_{6}],\n",
       "[                                                                1.0*N_{2}]])"
      ]
     },
     "execution_count": 5,
     "metadata": {},
     "output_type": "execute_result"
    }
   ],
   "source": [
    "R*P"
   ]
  },
  {
   "cell_type": "code",
   "execution_count": 6,
   "metadata": {},
   "outputs": [],
   "source": [
    "Rnb = sy.Matrix(\n",
    "    np.matrix([\n",
    "        [0, 0, 0, 0, 0, 0, 0],\n",
    "        [0, 1, -1, 0, 0, 0, 0],\n",
    "        [0, 1, 0, -1, 0, 0, 0],\n",
    "        [0, 1, 0, 0, 0, -1, 0],\n",
    "        [0, -1, 0, 0, 1, 0, 0],\n",
    "        [0, 0, 0, 0, 0, 0, 0],\n",
    "        [0, 0, 0, 0, 0, 0, 0],\n",
    "        [0, 0, 0, 0, 0, 0, 0],\n",
    "        [0, 0, 0, 0, 0, 0, 0]\n",
    "    ])\n",
    ")"
   ]
  },
  {
   "cell_type": "code",
   "execution_count": 8,
   "metadata": {},
   "outputs": [
    {
     "data": {
      "text/latex": [
       "$\\displaystyle \\left[\\begin{matrix}0\\\\- 0.5 N_{1} + 0.75 N_{3} + 0.75 N_{4} - 0.25 N_{5} - 0.25 N_{6} - 0.5 N_{7}\\\\0.5 N_{3} + 0.5 N_{4} + 0.5 N_{5} - 1.5 N_{6}\\\\- 1.0 N_{2} + 0.75 N_{3} + 0.75 N_{4} - 0.25 N_{5} - 0.25 N_{6}\\\\0.5 N_{3} - 1.5 N_{4} + 0.5 N_{5} + 0.5 N_{6}\\\\0\\\\0\\\\0\\\\0\\end{matrix}\\right]$"
      ],
      "text/plain": [
       "Matrix([\n",
       "[                                                                         0],\n",
       "[-0.5*N_{1} + 0.75*N_{3} + 0.75*N_{4} - 0.25*N_{5} - 0.25*N_{6} - 0.5*N_{7}],\n",
       "[                             0.5*N_{3} + 0.5*N_{4} + 0.5*N_{5} - 1.5*N_{6}],\n",
       "[            -1.0*N_{2} + 0.75*N_{3} + 0.75*N_{4} - 0.25*N_{5} - 0.25*N_{6}],\n",
       "[                             0.5*N_{3} - 1.5*N_{4} + 0.5*N_{5} + 0.5*N_{6}],\n",
       "[                                                                         0],\n",
       "[                                                                         0],\n",
       "[                                                                         0],\n",
       "[                                                                         0]])"
      ]
     },
     "execution_count": 8,
     "metadata": {},
     "output_type": "execute_result"
    }
   ],
   "source": [
    "Rnb*R*P"
   ]
  },
  {
   "cell_type": "code",
   "execution_count": 54,
   "metadata": {},
   "outputs": [
    {
     "data": {
      "text/latex": [
       "$\\displaystyle \\left[\\begin{matrix}0\\\\1.0 N_{J} - 0.5 N_{L} - 0.5 N_{\\delta}\\\\1.0 N_{J} + 0.5 N_{L} - 0.5 N_{\\delta}\\\\1.0 N_{J} - 0.5 N_{R} + 0.5 N_{\\delta}\\\\- 1.0 N_{J} - 0.5 N_{R} - 0.5 N_{\\delta}\\\\0\\\\0\\\\0\\\\0\\end{matrix}\\right]$"
      ],
      "text/plain": [
       "Matrix([\n",
       "[                                0],\n",
       "[ 1.0*N_J - 0.5*N_L - 0.5*N_\\delta],\n",
       "[ 1.0*N_J + 0.5*N_L - 0.5*N_\\delta],\n",
       "[ 1.0*N_J - 0.5*N_R + 0.5*N_\\delta],\n",
       "[-1.0*N_J - 0.5*N_R - 0.5*N_\\delta],\n",
       "[                                0],\n",
       "[                                0],\n",
       "[                                0],\n",
       "[                                0]])"
      ]
     },
     "execution_count": 54,
     "metadata": {},
     "output_type": "execute_result"
    }
   ],
   "source": [
    "Pp = Rnb*(R)**(-1) * Pm\n",
    "Pp"
   ]
  },
  {
   "cell_type": "code",
   "execution_count": 57,
   "metadata": {},
   "outputs": [],
   "source": [
    "Jvec = sy.Matrix(\n",
    "    [\n",
    "        0,\n",
    "        sy.symbols(\"E_{JTL}\"),\n",
    "        sy.symbols(\"E_{JBL}\"),\n",
    "        sy.symbols(\"E_{JBR}\"),\n",
    "        sy.symbols(\"E_{JTR}\"),\n",
    "        0,\n",
    "        0,\n",
    "        0,\n",
    "        0\n",
    "    ])"
   ]
  },
  {
   "cell_type": "code",
   "execution_count": 58,
   "metadata": {},
   "outputs": [
    {
     "data": {
      "text/latex": [
       "$\\displaystyle \\left[\\begin{matrix}0\\\\E_{JTL}\\\\E_{JBL}\\\\E_{JBR}\\\\E_{JTR}\\\\0\\\\0\\\\0\\\\0\\end{matrix}\\right]$"
      ],
      "text/plain": [
       "Matrix([\n",
       "[      0],\n",
       "[E_{JTL}],\n",
       "[E_{JBL}],\n",
       "[E_{JBR}],\n",
       "[E_{JTR}],\n",
       "[      0],\n",
       "[      0],\n",
       "[      0],\n",
       "[      0]])"
      ]
     },
     "execution_count": 58,
     "metadata": {},
     "output_type": "execute_result"
    }
   ],
   "source": [
    "Jvec"
   ]
  },
  {
   "cell_type": "code",
   "execution_count": 56,
   "metadata": {},
   "outputs": [
    {
     "data": {
      "text/plain": [
       "(1.0*N_J, -0.5*N_L, -0.5*N_\\delta)"
      ]
     },
     "execution_count": 56,
     "metadata": {},
     "output_type": "execute_result"
    }
   ],
   "source": [
    "Pp[1].args"
   ]
  },
  {
   "cell_type": "code",
   "execution_count": 79,
   "metadata": {},
   "outputs": [],
   "source": [
    "Dmap = {Pm[i]: s for i, s in enumerate(sy.symbols(\"D_l D_\\delta D_p D_R D_L D_J D_I\", commutative=False))}\n",
    "Dmap_adj = {Pm[i]: s for i, s in enumerate(sy.symbols(\n",
    "    \"D^{\\\\dagger}_l D^{\\\\dagger}_\\delta D^{\\\\dagger}_p D^{\\\\dagger}_R D^{\\\\dagger}_L D^{\\\\dagger}_J D^{\\\\dagger}_I\",\n",
    "    commutative=False\n",
    "))}"
   ]
  },
  {
   "cell_type": "code",
   "execution_count": 80,
   "metadata": {},
   "outputs": [
    {
     "data": {
      "text/plain": [
       "{N_l: D_l,\n",
       " N_\\delta: D_\\delta,\n",
       " N_p: D_p,\n",
       " N_R: D_R,\n",
       " N_L: D_L,\n",
       " N_J: D_J,\n",
       " N_I: D_I}"
      ]
     },
     "execution_count": 80,
     "metadata": {},
     "output_type": "execute_result"
    }
   ],
   "source": [
    "Dmap"
   ]
  },
  {
   "cell_type": "code",
   "execution_count": 81,
   "metadata": {},
   "outputs": [
    {
     "data": {
      "text/plain": [
       "{N_l: D^{\\dagger}_l,\n",
       " N_\\delta: D^{\\dagger}_\\delta,\n",
       " N_p: D^{\\dagger}_p,\n",
       " N_R: D^{\\dagger}_R,\n",
       " N_L: D^{\\dagger}_L,\n",
       " N_J: D^{\\dagger}_J,\n",
       " N_I: D^{\\dagger}_I}"
      ]
     },
     "execution_count": 81,
     "metadata": {},
     "output_type": "execute_result"
    }
   ],
   "source": [
    "Dmap_adj"
   ]
  },
  {
   "cell_type": "code",
   "execution_count": 85,
   "metadata": {},
   "outputs": [
    {
     "data": {
      "text/latex": [
       "$\\displaystyle - 0.5 E_{JTL} \\left(1.0 D^{\\dagger}_J D_{L} D_{\\delta} + 1.0 D_{J} D^{\\dagger}_L D^{\\dagger}_\\delta\\right)$"
      ],
      "text/plain": [
       "-0.5*E_{JTL}*(1.0*D^{\\dagger}_J*D_L*D_\\delta + 1.0*D_J*D^{\\dagger}_L*D^{\\dagger}_\\delta)"
      ]
     },
     "metadata": {},
     "output_type": "display_data"
    },
    {
     "data": {
      "text/latex": [
       "$\\displaystyle - 0.5 E_{JBL} \\left(1.0 D^{\\dagger}_L D^{\\dagger}_J D_{\\delta} + 1.0 D_{L} D_{J} D^{\\dagger}_\\delta\\right)$"
      ],
      "text/plain": [
       "-0.5*E_{JBL}*(1.0*D^{\\dagger}_L*D^{\\dagger}_J*D_\\delta + 1.0*D_L*D_J*D^{\\dagger}_\\delta)"
      ]
     },
     "metadata": {},
     "output_type": "display_data"
    },
    {
     "data": {
      "text/latex": [
       "$\\displaystyle - 0.5 E_{JBR} \\left(1.0 D^{\\dagger}_\\delta D^{\\dagger}_J D_{R} + 1.0 D_{\\delta} D_{J} D^{\\dagger}_R\\right)$"
      ],
      "text/plain": [
       "-0.5*E_{JBR}*(1.0*D^{\\dagger}_\\delta*D^{\\dagger}_J*D_R + 1.0*D_\\delta*D_J*D^{\\dagger}_R)"
      ]
     },
     "metadata": {},
     "output_type": "display_data"
    },
    {
     "data": {
      "text/latex": [
       "$\\displaystyle - 0.5 E_{JTR} \\left(1.0 D^{\\dagger}_R D^{\\dagger}_\\delta D^{\\dagger}_J + 1.0 D_{R} D_{\\delta} D_{J}\\right)$"
      ],
      "text/plain": [
       "-0.5*E_{JTR}*(1.0*D^{\\dagger}_R*D^{\\dagger}_\\delta*D^{\\dagger}_J + 1.0*D_R*D_\\delta*D_J)"
      ]
     },
     "metadata": {},
     "output_type": "display_data"
    }
   ],
   "source": [
    "Nb = 9\n",
    "cooper_disp = {}\n",
    "for i in range(Nb):\n",
    "    if Jvec[i] == 0:\n",
    "        continue\n",
    "    \n",
    "    # Left\n",
    "    prod1 = 1.0\n",
    "    for arg in Pp[i].args:\n",
    "        cooper_disp[arg.args[1]] = abs(float(arg.args[0]))\n",
    "        if arg.args[0] > 0:\n",
    "            prod1 *= Dmap[arg.args[1]]\n",
    "        else:\n",
    "            prod1 *= Dmap_adj[arg.args[1]]\n",
    "    \n",
    "    # Right\n",
    "    prod2 = 1.0\n",
    "    for arg in Pp[i].args:\n",
    "        cooper_disp[arg.args[1]] = abs(float(arg.args[0]))\n",
    "        if arg.args[0] < 0:\n",
    "            prod2 *= Dmap[arg.args[1]]\n",
    "        else:\n",
    "            prod2 *= Dmap_adj[arg.args[1]]\n",
    "    \n",
    "    \n",
    "    display(-0.5*Jvec[i]*(prod1 + prod2))"
   ]
  },
  {
   "cell_type": "code",
   "execution_count": 86,
   "metadata": {},
   "outputs": [
    {
     "data": {
      "text/plain": [
       "{N_J: 1.0, N_L: 0.5, N_\\delta: 0.5, N_R: 0.5}"
      ]
     },
     "execution_count": 86,
     "metadata": {},
     "output_type": "execute_result"
    }
   ],
   "source": [
    "cooper_disp"
   ]
  },
  {
   "cell_type": "code",
   "execution_count": 68,
   "metadata": {},
   "outputs": [
    {
     "data": {
      "text/plain": [
       "(1.00000000000000, N_J)"
      ]
     },
     "execution_count": 68,
     "metadata": {},
     "output_type": "execute_result"
    }
   ],
   "source": [
    "Pp[1].args[0].args"
   ]
  },
  {
   "cell_type": "code",
   "execution_count": null,
   "metadata": {},
   "outputs": [],
   "source": []
  },
  {
   "cell_type": "code",
   "execution_count": null,
   "metadata": {},
   "outputs": [],
   "source": []
  },
  {
   "cell_type": "code",
   "execution_count": null,
   "metadata": {},
   "outputs": [],
   "source": []
  },
  {
   "cell_type": "code",
   "execution_count": null,
   "metadata": {},
   "outputs": [],
   "source": []
  },
  {
   "cell_type": "code",
   "execution_count": 40,
   "metadata": {},
   "outputs": [],
   "source": [
    "Rnb_p = (Rnb*(R)**(-1) + np.abs(Rnb*(R)**(-1)))/2\n",
    "Rnb_m = (Rnb*(R)**(-1) - np.abs(Rnb*(R)**(-1)))/2"
   ]
  },
  {
   "cell_type": "code",
   "execution_count": 41,
   "metadata": {},
   "outputs": [
    {
     "data": {
      "text/latex": [
       "$\\displaystyle \\left[\\begin{matrix}0 & 0 & 0 & 0 & 0 & 0 & 0\\\\0 & 0 & 0 & 0 & 0 & 1.0 & 0\\\\0 & 0 & 0 & 0 & 0.5 & 1.0 & 0\\\\0 & 0.5 & 0 & 0 & 0 & 1.0 & 0\\\\0 & 0 & 0 & 0 & 0 & 0 & 0\\\\0 & 0 & 0 & 0 & 0 & 0 & 0\\\\0 & 0 & 0 & 0 & 0 & 0 & 0\\\\0 & 0 & 0 & 0 & 0 & 0 & 0\\\\0 & 0 & 0 & 0 & 0 & 0 & 0\\end{matrix}\\right]$"
      ],
      "text/plain": [
       "Matrix([\n",
       "[0,   0, 0, 0,   0,   0, 0],\n",
       "[0,   0, 0, 0,   0, 1.0, 0],\n",
       "[0,   0, 0, 0, 0.5, 1.0, 0],\n",
       "[0, 0.5, 0, 0,   0, 1.0, 0],\n",
       "[0,   0, 0, 0,   0,   0, 0],\n",
       "[0,   0, 0, 0,   0,   0, 0],\n",
       "[0,   0, 0, 0,   0,   0, 0],\n",
       "[0,   0, 0, 0,   0,   0, 0],\n",
       "[0,   0, 0, 0,   0,   0, 0]])"
      ]
     },
     "execution_count": 41,
     "metadata": {},
     "output_type": "execute_result"
    }
   ],
   "source": [
    "Rnb_p"
   ]
  },
  {
   "cell_type": "code",
   "execution_count": 42,
   "metadata": {},
   "outputs": [
    {
     "data": {
      "text/latex": [
       "$\\displaystyle \\left[\\begin{matrix}0 & 0 & 0 & 0 & 0 & 0 & 0\\\\0 & -0.5 & 0 & 0 & -0.5 & 0 & 0\\\\0 & -0.5 & 0 & 0 & 0 & 0 & 0\\\\0 & 0 & 0 & -0.5 & 0 & 0 & 0\\\\0 & -0.5 & 0 & -0.5 & 0 & -1.0 & 0\\\\0 & 0 & 0 & 0 & 0 & 0 & 0\\\\0 & 0 & 0 & 0 & 0 & 0 & 0\\\\0 & 0 & 0 & 0 & 0 & 0 & 0\\\\0 & 0 & 0 & 0 & 0 & 0 & 0\\end{matrix}\\right]$"
      ],
      "text/plain": [
       "Matrix([\n",
       "[0,    0, 0,    0,    0,    0, 0],\n",
       "[0, -0.5, 0,    0, -0.5,    0, 0],\n",
       "[0, -0.5, 0,    0,    0,    0, 0],\n",
       "[0,    0, 0, -0.5,    0,    0, 0],\n",
       "[0, -0.5, 0, -0.5,    0, -1.0, 0],\n",
       "[0,    0, 0,    0,    0,    0, 0],\n",
       "[0,    0, 0,    0,    0,    0, 0],\n",
       "[0,    0, 0,    0,    0,    0, 0],\n",
       "[0,    0, 0,    0,    0,    0, 0]])"
      ]
     },
     "execution_count": 42,
     "metadata": {},
     "output_type": "execute_result"
    }
   ],
   "source": [
    "Rnb_m"
   ]
  },
  {
   "cell_type": "code",
   "execution_count": 43,
   "metadata": {},
   "outputs": [
    {
     "data": {
      "text/latex": [
       "$\\displaystyle \\left[\\begin{matrix}D_{l} & 0 & 0 & 0 & 0 & 0 & 0\\\\0 & D_{\\delta} & 0 & 0 & 0 & 0 & 0\\\\0 & 0 & D_{p} & 0 & 0 & 0 & 0\\\\0 & 0 & 0 & D_{R} & 0 & 0 & 0\\\\0 & 0 & 0 & 0 & D_{L} & 0 & 0\\\\0 & 0 & 0 & 0 & 0 & D_{J} & 0\\\\0 & 0 & 0 & 0 & 0 & 0 & D_{I}\\end{matrix}\\right]$"
      ],
      "text/plain": [
       "Matrix([\n",
       "[D_l,        0,   0,   0,   0,   0,   0],\n",
       "[  0, D_\\delta,   0,   0,   0,   0,   0],\n",
       "[  0,        0, D_p,   0,   0,   0,   0],\n",
       "[  0,        0,   0, D_R,   0,   0,   0],\n",
       "[  0,        0,   0,   0, D_L,   0,   0],\n",
       "[  0,        0,   0,   0,   0, D_J,   0],\n",
       "[  0,        0,   0,   0,   0,   0, D_I]])"
      ]
     },
     "execution_count": 43,
     "metadata": {},
     "output_type": "execute_result"
    }
   ],
   "source": [
    "Dmat = sy.diag(*[s for s in sy.symbols(\"D_l D_\\delta D_p D_R D_L D_J D_I\")])\n",
    "Dmat"
   ]
  },
  {
   "cell_type": "code",
   "execution_count": 44,
   "metadata": {},
   "outputs": [
    {
     "data": {
      "text/latex": [
       "$\\displaystyle \\left[\\begin{matrix}D_{l}\\\\D_{\\delta}\\\\D_{p}\\\\D_{R}\\\\D_{L}\\\\D_{J}\\\\D_{I}\\end{matrix}\\right]$"
      ],
      "text/plain": [
       "Matrix([\n",
       "[     D_l],\n",
       "[D_\\delta],\n",
       "[     D_p],\n",
       "[     D_R],\n",
       "[     D_L],\n",
       "[     D_J],\n",
       "[     D_I]])"
      ]
     },
     "execution_count": 44,
     "metadata": {},
     "output_type": "execute_result"
    }
   ],
   "source": [
    "Dvec = sy.diag([s for s in sy.symbols(\"D_l D_\\delta D_p D_R D_L D_J D_I\")])\n",
    "Dvec"
   ]
  },
  {
   "cell_type": "code",
   "execution_count": 49,
   "metadata": {},
   "outputs": [],
   "source": [
    "Dmat_p = Rnb_p*Dmat"
   ]
  },
  {
   "cell_type": "code",
   "execution_count": 50,
   "metadata": {},
   "outputs": [],
   "source": [
    "Dmat_m = Rnb_m*Dmat"
   ]
  },
  {
   "cell_type": "code",
   "execution_count": 52,
   "metadata": {},
   "outputs": [
    {
     "data": {
      "text/latex": [
       "$\\displaystyle \\left[\\begin{matrix}0 & 0 & 0 & 0 & 0 & 0 & 0\\\\0 & 0 & 0 & - 0.25 D_{R} D_{\\delta} & 0 & 0 & 0\\\\0 & 0 & 0 & 0 & 0 & 0 & 0\\\\0 & 0 & 0 & 0 & 0 & 0 & 0\\\\0 & - 0.25 D_{L} D_{\\delta} & 0 & 0 & 0 & 0 & 0\\\\0 & - 1.0 D_{J} D_{\\delta} & 0 & - 0.5 D_{J} D_{R} & - 0.5 D_{J} D_{L} & 0 & 0\\\\0 & 0 & 0 & 0 & 0 & 0 & 0\\end{matrix}\\right]$"
      ],
      "text/plain": [
       "Matrix([\n",
       "[0,                  0, 0,                  0,            0, 0, 0],\n",
       "[0,                  0, 0, -0.25*D_R*D_\\delta,            0, 0, 0],\n",
       "[0,                  0, 0,                  0,            0, 0, 0],\n",
       "[0,                  0, 0,                  0,            0, 0, 0],\n",
       "[0, -0.25*D_L*D_\\delta, 0,                  0,            0, 0, 0],\n",
       "[0,  -1.0*D_J*D_\\delta, 0,       -0.5*D_J*D_R, -0.5*D_J*D_L, 0, 0],\n",
       "[0,                  0, 0,                  0,            0, 0, 0]])"
      ]
     },
     "execution_count": 52,
     "metadata": {},
     "output_type": "execute_result"
    }
   ],
   "source": [
    "Dmat_p.T*Dmat_m"
   ]
  },
  {
   "cell_type": "code",
   "execution_count": null,
   "metadata": {},
   "outputs": [],
   "source": []
  }
 ],
 "metadata": {
  "kernelspec": {
   "display_name": "Python 3.8",
   "language": "python",
   "name": "python3.8"
  },
  "language_info": {
   "codemirror_mode": {
    "name": "ipython",
    "version": 3
   },
   "file_extension": ".py",
   "mimetype": "text/x-python",
   "name": "python",
   "nbconvert_exporter": "python",
   "pygments_lexer": "ipython3",
   "version": "3.8.10"
  }
 },
 "nbformat": 4,
 "nbformat_minor": 4
}
