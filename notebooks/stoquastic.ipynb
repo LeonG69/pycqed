{
 "cells": [
  {
   "cell_type": "code",
   "execution_count": 1,
   "metadata": {},
   "outputs": [],
   "source": [
    "import qutip as qt\n",
    "from pycqed import *\n",
    "from pycqed.util import isStoquastic"
   ]
  },
  {
   "cell_type": "markdown",
   "metadata": {},
   "source": [
    "# Checking the Stoquasticity of a Hamiltonian\n",
    "\n",
    "This notebook tests the `pycqed.util.isStoquastic` function, which can determine if a given Hamiltonian is non-stoquastic to specified orders.\n",
    "\n",
    "## XX Interactions\n",
    "\n",
    "First we will check that the addition of an $XX$ interaction to a two-qubit Hamiltonian can make it non-stoquastic. We start with the Hamiltonian\n",
    "\n",
    "$$\\hat{H}_\\mathrm{stoq} = h_x \\left(\\hat{\\sigma}^x_1+\\hat{\\sigma}^x_2\\right) + h_z \\left(\\hat{\\sigma}^z_1+\\hat{\\sigma}^z_2\\right) + J_{12} \\hat{\\sigma}^z\\hat{\\sigma}^z$$\n",
    "\n",
    "which should be stoquastic:"
   ]
  },
  {
   "cell_type": "code",
   "execution_count": 2,
   "metadata": {},
   "outputs": [
    {
     "data": {
      "text/latex": [
       "Quantum object: dims = [[2, 2], [2, 2]], shape = (4, 4), type = oper, isherm = True\\begin{equation*}\\left(\\begin{array}{*{11}c}3.0 & -1.0 & -1.0 & 0.0\\\\-1.0 & -1.0 & 0.0 & -1.0\\\\-1.0 & 0.0 & -1.0 & -1.0\\\\0.0 & -1.0 & -1.0 & -1.0\\\\\\end{array}\\right)\\end{equation*}"
      ],
      "text/plain": [
       "Quantum object: dims = [[2, 2], [2, 2]], shape = (4, 4), type = oper, isherm = True\n",
       "Qobj data =\n",
       "[[ 3. -1. -1.  0.]\n",
       " [-1. -1.  0. -1.]\n",
       " [-1.  0. -1. -1.]\n",
       " [ 0. -1. -1. -1.]]"
      ]
     },
     "metadata": {},
     "output_type": "display_data"
    }
   ],
   "source": [
    "# Create the above Hamiltonian for some point in the middle of an annealing sequence\n",
    "hx = -1.0\n",
    "hz = 1.0\n",
    "J12 = 1.0\n",
    "Hx = hx*(qt.tensor(qt.sigmax(),qt.qeye(2)) + qt.tensor(qt.qeye(2),qt.sigmax()))\n",
    "Hz = hz*(qt.tensor(qt.sigmaz(),qt.qeye(2)) + qt.tensor(qt.qeye(2),qt.sigmaz()))\n",
    "Hj = J12*qt.tensor(qt.sigmaz(),qt.sigmaz())\n",
    "H = Hx + Hz + Hj\n",
    "display(H)"
   ]
  },
  {
   "cell_type": "code",
   "execution_count": 3,
   "metadata": {},
   "outputs": [
    {
     "data": {
      "text/plain": [
       "True"
      ]
     },
     "execution_count": 3,
     "metadata": {},
     "output_type": "execute_result"
    }
   ],
   "source": [
    "isStoquastic(H)"
   ]
  },
  {
   "cell_type": "markdown",
   "metadata": {},
   "source": [
    "Indeed this Hamiltonian is stoquastic (to order 2 and 3). Now let's add the $XX$ term, which depending on it's sign should make the Hamiltonian non-stoquastic:"
   ]
  },
  {
   "cell_type": "code",
   "execution_count": 4,
   "metadata": {},
   "outputs": [
    {
     "data": {
      "text/latex": [
       "Quantum object: dims = [[2, 2], [2, 2]], shape = (4, 4), type = oper, isherm = True\\begin{equation*}\\left(\\begin{array}{*{11}c}2.0 & -1.0 & -1.0 & 1.0\\\\-1.0 & 0.0 & 1.0 & -1.0\\\\-1.0 & 1.0 & 0.0 & -1.0\\\\1.0 & -1.0 & -1.0 & -2.0\\\\\\end{array}\\right)\\end{equation*}"
      ],
      "text/plain": [
       "Quantum object: dims = [[2, 2], [2, 2]], shape = (4, 4), type = oper, isherm = True\n",
       "Qobj data =\n",
       "[[ 2. -1. -1.  1.]\n",
       " [-1.  0.  1. -1.]\n",
       " [-1.  1.  0. -1.]\n",
       " [ 1. -1. -1. -2.]]"
      ]
     },
     "metadata": {},
     "output_type": "display_data"
    }
   ],
   "source": [
    "# Create the above Hamiltonian for some point in the middle of an annealing sequence\n",
    "hx = -1.0\n",
    "hz = 1.0\n",
    "J12 = 0.0\n",
    "Jxx = 1.0\n",
    "Hx = hx*(qt.tensor(qt.sigmax(),qt.qeye(2)) + qt.tensor(qt.qeye(2),qt.sigmax()))\n",
    "Hz = hz*(qt.tensor(qt.sigmaz(),qt.qeye(2)) + qt.tensor(qt.qeye(2),qt.sigmaz()))\n",
    "Hj = J12*qt.tensor(qt.sigmaz(),qt.sigmaz())\n",
    "Hjx = Jxx*qt.tensor(qt.sigmax(),qt.sigmax())\n",
    "H = Hx + Hz + Hj + Hjx\n",
    "display(H)"
   ]
  },
  {
   "cell_type": "code",
   "execution_count": 5,
   "metadata": {},
   "outputs": [
    {
     "data": {
      "text/plain": [
       "False"
      ]
     },
     "execution_count": 5,
     "metadata": {},
     "output_type": "execute_result"
    }
   ],
   "source": [
    "isStoquastic(H)"
   ]
  },
  {
   "cell_type": "markdown",
   "metadata": {},
   "source": [
    "So when $J_{xx}$ is positive the Hamiltonian is non-stoquastic!"
   ]
  },
  {
   "cell_type": "code",
   "execution_count": 6,
   "metadata": {},
   "outputs": [
    {
     "data": {
      "text/latex": [
       "Quantum object: dims = [[2, 2], [2, 2]], shape = (4, 4), type = oper, isherm = True\\begin{equation*}\\left(\\begin{array}{*{11}c}2.0 & -1.0 & -1.0 & -1.0\\\\-1.0 & 0.0 & -1.0 & -1.0\\\\-1.0 & -1.0 & 0.0 & -1.0\\\\-1.0 & -1.0 & -1.0 & -2.0\\\\\\end{array}\\right)\\end{equation*}"
      ],
      "text/plain": [
       "Quantum object: dims = [[2, 2], [2, 2]], shape = (4, 4), type = oper, isherm = True\n",
       "Qobj data =\n",
       "[[ 2. -1. -1. -1.]\n",
       " [-1.  0. -1. -1.]\n",
       " [-1. -1.  0. -1.]\n",
       " [-1. -1. -1. -2.]]"
      ]
     },
     "metadata": {},
     "output_type": "display_data"
    }
   ],
   "source": [
    "# Create the above Hamiltonian for some point in the middle of an annealing sequence\n",
    "hx = -1.0\n",
    "hz = 1.0\n",
    "J12 = 0.0\n",
    "Jxx = -1.0\n",
    "Hx = hx*(qt.tensor(qt.sigmax(),qt.qeye(2)) + qt.tensor(qt.qeye(2),qt.sigmax()))\n",
    "Hz = hz*(qt.tensor(qt.sigmaz(),qt.qeye(2)) + qt.tensor(qt.qeye(2),qt.sigmaz()))\n",
    "Hj = J12*qt.tensor(qt.sigmaz(),qt.sigmaz())\n",
    "Hjx = Jxx*qt.tensor(qt.sigmax(),qt.sigmax())\n",
    "H = Hx + Hz + Hj + Hjx\n",
    "display(H)"
   ]
  },
  {
   "cell_type": "code",
   "execution_count": 7,
   "metadata": {},
   "outputs": [
    {
     "data": {
      "text/plain": [
       "True"
      ]
     },
     "execution_count": 7,
     "metadata": {},
     "output_type": "execute_result"
    }
   ],
   "source": [
    "isStoquastic(H)"
   ]
  },
  {
   "cell_type": "markdown",
   "metadata": {},
   "source": [
    "It is stoquastic when $J_{xx}$ is negative, as expected according to [M. Troyer and U. Wiese](https://journals.aps.org/prl/abstract/10.1103/PhysRevLett.94.170201)"
   ]
  },
  {
   "cell_type": "markdown",
   "metadata": {},
   "source": [
    "## YY Interactions\n",
    "\n",
    "Now we look at the inclusion of YY interactions, which should provide the same effect."
   ]
  },
  {
   "cell_type": "code",
   "execution_count": 8,
   "metadata": {},
   "outputs": [
    {
     "data": {
      "text/latex": [
       "Quantum object: dims = [[2, 2], [2, 2]], shape = (4, 4), type = oper, isherm = True\\begin{equation*}\\left(\\begin{array}{*{11}c}2.0 & -0.001 & -0.001 & -1.0\\\\-0.001 & 0.0 & 1.0 & -0.001\\\\-0.001 & 1.0 & 0.0 & -0.001\\\\-1.0 & -0.001 & -0.001 & -2.0\\\\\\end{array}\\right)\\end{equation*}"
      ],
      "text/plain": [
       "Quantum object: dims = [[2, 2], [2, 2]], shape = (4, 4), type = oper, isherm = True\n",
       "Qobj data =\n",
       "[[ 2.e+00 -1.e-03 -1.e-03 -1.e+00]\n",
       " [-1.e-03  0.e+00  1.e+00 -1.e-03]\n",
       " [-1.e-03  1.e+00  0.e+00 -1.e-03]\n",
       " [-1.e+00 -1.e-03 -1.e-03 -2.e+00]]"
      ]
     },
     "metadata": {},
     "output_type": "display_data"
    }
   ],
   "source": [
    "# Create the above Hamiltonian for some point in the middle of an annealing sequence\n",
    "hx = -1.0e-3\n",
    "hz = 1.0\n",
    "J12 = 0.0\n",
    "Jyy = 1.0\n",
    "Hx = hx*(qt.tensor(qt.sigmax(),qt.qeye(2)) + qt.tensor(qt.qeye(2),qt.sigmax()))\n",
    "Hz = hz*(qt.tensor(qt.sigmaz(),qt.qeye(2)) + qt.tensor(qt.qeye(2),qt.sigmaz()))\n",
    "Hj = J12*qt.tensor(qt.sigmaz(),qt.sigmaz())\n",
    "Hjx = Jyy*qt.tensor(qt.sigmay(),qt.sigmay())\n",
    "H = Hx + Hz + Hj + Hjx\n",
    "display(H)"
   ]
  },
  {
   "cell_type": "code",
   "execution_count": 9,
   "metadata": {},
   "outputs": [
    {
     "data": {
      "text/plain": [
       "False"
      ]
     },
     "execution_count": 9,
     "metadata": {},
     "output_type": "execute_result"
    }
   ],
   "source": [
    "isStoquastic(H)"
   ]
  },
  {
   "cell_type": "code",
   "execution_count": 10,
   "metadata": {},
   "outputs": [
    {
     "data": {
      "text/latex": [
       "Quantum object: dims = [[2, 2], [2, 2]], shape = (4, 4), type = oper, isherm = True\\begin{equation*}\\left(\\begin{array}{*{11}c}2.0 & -1.0 & -1.0 & 1.0\\\\-1.0 & 0.0 & -1.0 & -1.0\\\\-1.0 & -1.0 & 0.0 & -1.0\\\\1.0 & -1.0 & -1.0 & -2.0\\\\\\end{array}\\right)\\end{equation*}"
      ],
      "text/plain": [
       "Quantum object: dims = [[2, 2], [2, 2]], shape = (4, 4), type = oper, isherm = True\n",
       "Qobj data =\n",
       "[[ 2. -1. -1.  1.]\n",
       " [-1.  0. -1. -1.]\n",
       " [-1. -1.  0. -1.]\n",
       " [ 1. -1. -1. -2.]]"
      ]
     },
     "metadata": {},
     "output_type": "display_data"
    }
   ],
   "source": [
    "# Create the above Hamiltonian for some point in the middle of an annealing sequence\n",
    "hx = -1.0\n",
    "hz = 1.0\n",
    "J12 = 0.0\n",
    "Jyy = -1.0\n",
    "Hx = hx*(qt.tensor(qt.sigmax(),qt.qeye(2)) + qt.tensor(qt.qeye(2),qt.sigmax()))\n",
    "Hz = hz*(qt.tensor(qt.sigmaz(),qt.qeye(2)) + qt.tensor(qt.qeye(2),qt.sigmaz()))\n",
    "Hj = J12*qt.tensor(qt.sigmaz(),qt.sigmaz())\n",
    "Hjx = Jyy*qt.tensor(qt.sigmay(),qt.sigmay())\n",
    "H = Hx + Hz + Hj + Hjx\n",
    "display(H)"
   ]
  },
  {
   "cell_type": "code",
   "execution_count": 11,
   "metadata": {},
   "outputs": [
    {
     "data": {
      "text/plain": [
       "False"
      ]
     },
     "execution_count": 11,
     "metadata": {},
     "output_type": "execute_result"
    }
   ],
   "source": [
    "isStoquastic(H)"
   ]
  },
  {
   "cell_type": "code",
   "execution_count": null,
   "metadata": {},
   "outputs": [],
   "source": []
  }
 ],
 "metadata": {
  "kernelspec": {
   "display_name": "Python 3",
   "language": "python",
   "name": "python3"
  },
  "language_info": {
   "codemirror_mode": {
    "name": "ipython",
    "version": 3
   },
   "file_extension": ".py",
   "mimetype": "text/x-python",
   "name": "python",
   "nbconvert_exporter": "python",
   "pygments_lexer": "ipython3",
   "version": "3.6.9"
  }
 },
 "nbformat": 4,
 "nbformat_minor": 2
}
