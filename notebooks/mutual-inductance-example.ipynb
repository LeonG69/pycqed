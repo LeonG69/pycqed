{
 "cells": [
  {
   "cell_type": "code",
   "execution_count": 1,
   "metadata": {},
   "outputs": [],
   "source": [
    "import matplotlib.pyplot as plt\n",
    "from pycqed import *\n",
    "from pycqed.util import *"
   ]
  },
  {
   "cell_type": "markdown",
   "metadata": {},
   "source": [
    "## Mutual Inductance Example\n",
    "\n",
    "Here we show how to couple circuits via mutual inductances.\n",
    "\n",
    "We will use the RF-SQUID since it is easily simulated:"
   ]
  },
  {
   "cell_type": "code",
   "execution_count": 2,
   "metadata": {},
   "outputs": [
    {
     "name": "stdout",
     "output_type": "stream",
     "text": [
      "Using existing PyCQED tmp output root directory '/tmp/.pycqed/'.\n"
     ]
    },
    {
     "data": {
      "image/png": "[encoded data removed]",
      "text/plain": [
       "<Figure size 170.55x154.314 with 1 Axes>"
      ]
     },
     "metadata": {
      "needs_background": "light"
     },
     "output_type": "display_data"
    }
   ],
   "source": [
    "circuit = CircuitSpec(\"RF-SQUID Qubit Circuit\")\n",
    "circuit.addBranch([\"L\"],\"up\",0,False,arm_len=0.5)\n",
    "circuit.addBranch([\"I\",\"C\"],\"down\",1,True,arm_len=0.5)\n",
    "circuit.drawCircuit(inline=True)\n",
    "\n",
    "# Create Hamiltonian generator\n",
    "hamil = HamilSpec(circuit,mode=\"node\")\n",
    "hamil.setTruncation(1,10,\"charge\")\n",
    "hamil.prepareOperators()\n",
    "\n",
    "# Fabrication parameters\n",
    "Ca = 60.0 # fF/um^2\n",
    "Jc = 3.0  # uA/um^2\n",
    "Aj = 0.2*1.2#0.4**2 # um^2\n",
    "\n",
    "# Set the parameter values\n",
    "hamil.setParameterValues(\n",
    "    'C',Ca*Aj,\n",
    "    'I',Jc*Aj,\n",
    "    'L',570.0,\n",
    "    'phi10e',0.5\n",
    ")"
   ]
  },
  {
   "cell_type": "code",
   "execution_count": 3,
   "metadata": {},
   "outputs": [
    {
     "name": "stdout",
     "output_type": "stream",
     "text": [
      "Parameter Sweep Duration:\n",
      "  Initialization:\t0.047 s\n",
      "  Loop duration:\t0.655 s\n",
      "  Avg iteration:\t0.006 s\n"
     ]
    }
   ],
   "source": [
    "spec = [\n",
    "    hamil.sweepSpec('phi10e',0.49,0.51,101)\n",
    "]\n",
    "sweep = hamil.paramSweep(spec,timesweep=True)"
   ]
  },
  {
   "cell_type": "code",
   "execution_count": 4,
   "metadata": {},
   "outputs": [],
   "source": [
    "x,E,v = hamil.getSweep(sweep,'phi10e',{},evaluable='getHamiltonian')"
   ]
  },
  {
   "cell_type": "code",
   "execution_count": 5,
   "metadata": {},
   "outputs": [
    {
     "data": {
      "text/plain": [
       "Text(0, 0.5, '$E_{g,i}$ (GHz)')"
      ]
     },
     "execution_count": 5,
     "metadata": {},
     "output_type": "execute_result"
    },
    {
     "data": {
      "image/png": "[encoded data removed]",
      "text/plain": [
       "<Figure size 432x288 with 1 Axes>"
      ]
     },
     "metadata": {
      "needs_background": "light"
     },
     "output_type": "display_data"
    }
   ],
   "source": [
    "for i in range(3):\n",
    "    plt.plot(x,E[i]-E[0])\n",
    "plt.xlabel(\"$\\\\Phi_{10e}$ ($\\\\Phi_0$)\")\n",
    "plt.ylabel(\"$E_{g,i}$ (GHz)\")"
   ]
  },
  {
   "cell_type": "markdown",
   "metadata": {},
   "source": [
    "Now lets define two RF-SQUIDs side-by-side"
   ]
  },
  {
   "cell_type": "code",
   "execution_count": 6,
   "metadata": {},
   "outputs": [
    {
     "data": {
      "image/png": "[encoded data removed]",
      "text/plain": [
       "<Figure size 408.15x154.314 with 1 Axes>"
      ]
     },
     "metadata": {
      "needs_background": "light"
     },
     "output_type": "display_data"
    }
   ],
   "source": [
    "circuit = CircuitSpec(\"RF-SQUID Qubit Circuit\")\n",
    "circuit.addBranch([\"L1\"],\"up\",0,False,arm_len=0.5)\n",
    "circuit.addBranch([\"I1\",\"C1\"],\"down\",1,True,arm_len=0.5)\n",
    "circuit.addGroundNode((6.0,0))\n",
    "\n",
    "circuit.addBranch([\"L2\"],\"up\",0,False,arm_len=0.5)\n",
    "circuit.addBranch([\"I2\",\"C2\"],\"down\",2,True,arm_len=0.5)\n",
    "\n",
    "circuit.drawCircuit(inline=True)"
   ]
  },
  {
   "cell_type": "code",
   "execution_count": 7,
   "metadata": {},
   "outputs": [
    {
     "data": {
      "text/latex": [
       "$\\displaystyle \\left[\\begin{matrix}1.0 L_{1} & 0\\\\0 & 1.0 L_{2}\\end{matrix}\\right]$"
      ],
      "text/plain": [
       "Matrix([\n",
       "[1.0*L_{1},         0],\n",
       "[        0, 1.0*L_{2}]])"
      ]
     },
     "execution_count": 7,
     "metadata": {},
     "output_type": "execute_result"
    }
   ],
   "source": [
    "circuit.getInductanceMatrix()"
   ]
  },
  {
   "cell_type": "code",
   "execution_count": 8,
   "metadata": {},
   "outputs": [
    {
     "name": "stdout",
     "output_type": "stream",
     "text": [
      "Using existing PyCQED tmp output root directory '/tmp/.pycqed/'.\n"
     ]
    }
   ],
   "source": [
    "# Create Hamiltonian generator\n",
    "hamil = HamilSpec(circuit,mode=\"node\")\n",
    "hamil.setTruncation(1,10,\"charge\")\n",
    "hamil.setTruncation(2,10,\"charge\")\n",
    "hamil.prepareOperators()\n",
    "\n",
    "# Fabrication parameters\n",
    "Ca = 60.0 # fF/um^2\n",
    "Jc = 3.0  # uA/um^2\n",
    "Aj = 0.2*1.2#0.4**2 # um^2\n",
    "\n",
    "# Set the parameter values\n",
    "hamil.setParameterValues(\n",
    "    'C1',Ca*Aj,\n",
    "    'I1',Jc*Aj,\n",
    "    'L1',570.0,\n",
    "    'C2',Ca*Aj,\n",
    "    'I2',Jc*Aj,\n",
    "    'L2',570.0,\n",
    "    'phi10e',0.5,\n",
    "    'phi20e',0.5\n",
    ")"
   ]
  },
  {
   "cell_type": "code",
   "execution_count": 9,
   "metadata": {},
   "outputs": [
    {
     "name": "stdout",
     "output_type": "stream",
     "text": [
      "Parameter Sweep Duration:\n",
      "  Initialization:\t0.373 s\n",
      "  Loop duration:\t14.290 s\n",
      "  Avg iteration:\t0.141 s\n"
     ]
    }
   ],
   "source": [
    "spec = [\n",
    "    hamil.sweepSpec('phi10e',0.49,0.51,101)\n",
    "]\n",
    "sweep = hamil.paramSweep(spec,timesweep=True)"
   ]
  },
  {
   "cell_type": "code",
   "execution_count": 10,
   "metadata": {},
   "outputs": [],
   "source": [
    "x,E,v = hamil.getSweep(sweep,'phi10e',{})"
   ]
  },
  {
   "cell_type": "code",
   "execution_count": 11,
   "metadata": {},
   "outputs": [
    {
     "data": {
      "text/plain": [
       "Text(0, 0.5, '$E_{g,i}$ (GHz)')"
      ]
     },
     "execution_count": 11,
     "metadata": {},
     "output_type": "execute_result"
    },
    {
     "data": {
      "image/png": "[encoded data removed]",
      "text/plain": [
       "<Figure size 432x288 with 1 Axes>"
      ]
     },
     "metadata": {
      "needs_background": "light"
     },
     "output_type": "display_data"
    }
   ],
   "source": [
    "for i in range(5):\n",
    "    plt.plot(x,E[i]-E[0])\n",
    "plt.xlabel(\"$\\\\Phi_{10e}$ ($\\\\Phi_0$)\")\n",
    "plt.ylabel(\"$E_{g,i}$ (GHz)\")"
   ]
  },
  {
   "cell_type": "markdown",
   "metadata": {},
   "source": [
    "We see that, since the two RF-SQUIDs do not interact in any way, the circuit that is not biased has a flat energy band as a function of the flux of the biased circuit.\n",
    "\n",
    "Now adding the mutual inductive coupling, implicitely in that it is not drawn in the circuit:"
   ]
  },
  {
   "cell_type": "code",
   "execution_count": 12,
   "metadata": {},
   "outputs": [],
   "source": [
    "circuit.coupleBranchesImplicitly(\"M12\", (0,1), (0,2))"
   ]
  },
  {
   "cell_type": "code",
   "execution_count": 13,
   "metadata": {},
   "outputs": [
    {
     "data": {
      "text/latex": [
       "$\\displaystyle \\left[\\begin{matrix}1.0 L_{1} & 1.0 M_{12}\\\\1.0 M_{12} & 1.0 L_{2}\\end{matrix}\\right]$"
      ],
      "text/plain": [
       "Matrix([\n",
       "[ 1.0*L_{1}, 1.0*M_{12}],\n",
       "[1.0*M_{12},  1.0*L_{2}]])"
      ]
     },
     "execution_count": 13,
     "metadata": {},
     "output_type": "execute_result"
    }
   ],
   "source": [
    "circuit.getInductanceMatrix()"
   ]
  },
  {
   "cell_type": "code",
   "execution_count": 14,
   "metadata": {},
   "outputs": [
    {
     "name": "stdout",
     "output_type": "stream",
     "text": [
      "Using existing PyCQED tmp output root directory '/tmp/.pycqed/'.\n"
     ]
    }
   ],
   "source": [
    "# Create Hamiltonian generator\n",
    "hamil = HamilSpec(circuit,mode=\"node\")\n",
    "hamil.setTruncation(1,10,\"charge\")\n",
    "hamil.setTruncation(2,10,\"charge\")\n",
    "hamil.prepareOperators()\n",
    "\n",
    "# Fabrication parameters\n",
    "Ca = 60.0 # fF/um^2\n",
    "Jc = 3.0  # uA/um^2\n",
    "Aj = 0.2*1.2#0.4**2 # um^2\n",
    "\n",
    "# Set the parameter values\n",
    "hamil.setParameterValues(\n",
    "    'C1',Ca*Aj,\n",
    "    'I1',Jc*Aj,\n",
    "    'L1',570.0,\n",
    "    'C2',Ca*Aj,\n",
    "    'I2',Jc*Aj,\n",
    "    'L2',570.0,\n",
    "    'M12',2.0,\n",
    "    'phi10e',0.5,\n",
    "    'phi20e',0.5\n",
    ")"
   ]
  },
  {
   "cell_type": "markdown",
   "metadata": {},
   "source": [
    "We see the inductive terms of the previously non-interacting circuits are now loaded by the mutual inductance term."
   ]
  },
  {
   "cell_type": "code",
   "execution_count": 15,
   "metadata": {},
   "outputs": [
    {
     "data": {
      "text/latex": [
       "$\\displaystyle \\left[\\begin{matrix}\\frac{1.0 L_{2}}{1.0 L_{1} L_{2} - 1.0 M_{12}^{2}} & - \\frac{1.0 M_{12}}{1.0 L_{1} L_{2} - 1.0 M_{12}^{2}}\\\\- \\frac{1.0 M_{12}}{1.0 L_{1} L_{2} - 1.0 M_{12}^{2}} & \\frac{1.0 L_{1}}{1.0 L_{1} L_{2} - 1.0 M_{12}^{2}}\\end{matrix}\\right]$"
      ],
      "text/plain": [
       "Matrix([\n",
       "[  1.0*L_{2}/(1.0*L_{1}*L_{2} - 1.0*M_{12}**2), -1.0*M_{12}/(1.0*L_{1}*L_{2} - 1.0*M_{12}**2)],\n",
       "[-1.0*M_{12}/(1.0*L_{1}*L_{2} - 1.0*M_{12}**2),   1.0*L_{1}/(1.0*L_{1}*L_{2} - 1.0*M_{12}**2)]])"
      ]
     },
     "execution_count": 15,
     "metadata": {},
     "output_type": "execute_result"
    }
   ],
   "source": [
    "circuit.getInverseInductanceMatrix()"
   ]
  },
  {
   "cell_type": "code",
   "execution_count": 16,
   "metadata": {},
   "outputs": [
    {
     "data": {
      "text/latex": [
       "$\\displaystyle \\left[\\begin{matrix}L_{1} & M_{12} & 0 & 0\\\\M_{12} & L_{2} & 0 & 0\\\\0 & 0 & 0 & 0\\\\0 & 0 & 0 & 0\\end{matrix}\\right]$"
      ],
      "text/plain": [
       "Matrix([\n",
       "[ L_{1}, M_{12}, 0, 0],\n",
       "[M_{12},  L_{2}, 0, 0],\n",
       "[     0,      0, 0, 0],\n",
       "[     0,      0, 0, 0]])"
      ]
     },
     "execution_count": 16,
     "metadata": {},
     "output_type": "execute_result"
    }
   ],
   "source": [
    "circuit.getInductanceMatrix(mode='branch')"
   ]
  },
  {
   "cell_type": "code",
   "execution_count": 17,
   "metadata": {},
   "outputs": [
    {
     "name": "stdout",
     "output_type": "stream",
     "text": [
      "Parameter Sweep Duration:\n",
      "  Initialization:\t3.716 s\n",
      "  Loop duration:\t26.501 s\n",
      "  Avg iteration:\t0.262 s\n"
     ]
    }
   ],
   "source": [
    "spec = [\n",
    "    hamil.sweepSpec('phi10e',0.49,0.51,101)\n",
    "]\n",
    "sweep = hamil.paramSweep(spec,timesweep=True)"
   ]
  },
  {
   "cell_type": "code",
   "execution_count": 18,
   "metadata": {},
   "outputs": [],
   "source": [
    "x,E,v = hamil.getSweep(sweep,'phi10e',{},evaluable='getHamiltonian')"
   ]
  },
  {
   "cell_type": "code",
   "execution_count": 19,
   "metadata": {},
   "outputs": [
    {
     "data": {
      "text/plain": [
       "Text(0, 0.5, '$E_{g,i}$ (GHz)')"
      ]
     },
     "execution_count": 19,
     "metadata": {},
     "output_type": "execute_result"
    },
    {
     "data": {
      "image/png": "[encoded data removed]",
      "text/plain": [
       "<Figure size 432x288 with 1 Axes>"
      ]
     },
     "metadata": {
      "needs_background": "light"
     },
     "output_type": "display_data"
    }
   ],
   "source": [
    "for i in range(5):\n",
    "    plt.plot(x,E[i]-E[0])\n",
    "plt.xlabel(\"$\\\\Phi_{10e}$ ($\\\\Phi_0$)\")\n",
    "plt.ylabel(\"$E_{g,i}$ (GHz)\")"
   ]
  },
  {
   "cell_type": "markdown",
   "metadata": {},
   "source": [
    "We now see that the energy levels associated with the unbiased circuit are no longer flat, due to the finite magnetic interaction induced by the mutual inductance. We now see the formation of avoided crossings where previously the energy levels associated with each circuit would cross."
   ]
  },
  {
   "cell_type": "code",
   "execution_count": 55,
   "metadata": {},
   "outputs": [
    {
     "data": {
      "image/png": "[encoded data removed]",
      "text/plain": [
       "<Figure size 437.85x309.744 with 1 Axes>"
      ]
     },
     "metadata": {
      "needs_background": "light"
     },
     "output_type": "display_data"
    }
   ],
   "source": [
    "circuit = CircuitSpec(\"RF-SQUID Qubit Circuit\")\n",
    "circuit.addBranch([\"L1\"],\"up\",0,False,arm_len=0.5)\n",
    "circuit.addBranch([\"I1\",\"C1\"],\"down\",1,True,arm_len=0.5)\n",
    "circuit.addGroundNode((6.0,0))\n",
    "\n",
    "circuit.addBranch([\"L2\"],\"up\",0,False,arm_len=0.5)\n",
    "circuit.addBranch([\"I2\",\"C2\"],\"down\",2,True,arm_len=0.5)\n",
    "\n",
    "circuit.coupleBranchesImplicitly(\"M12\", (0,1), (0,2))\n",
    "\n",
    "rcircuit = circuit.coupleLinearResonator(\"r\",2)\n",
    "rcircuit.drawCircuit(inline=True)"
   ]
  },
  {
   "cell_type": "code",
   "execution_count": 56,
   "metadata": {},
   "outputs": [
    {
     "data": {
      "text/latex": [
       "$\\displaystyle \\left[\\begin{matrix}- 0.5 I_{1} \\left(e^{i\\phi_{10e}} D_{1} + \\overline{e^{i\\phi_{10e}}} D^{\\dagger}_{1}\\right) - 0.5 I_{2} \\left(e^{i\\phi_{20e}} D_{2} + \\overline{e^{i\\phi_{20e}}} D^{\\dagger}_{2}\\right) + \\left(\\frac{0.5 C_{2r} Q_{2}}{- C_{2r}^{2} + \\left(C_{2r} + C_{2}\\right) \\left(C_{2r} + C_{r}\\right)} + \\frac{0.5 \\left(C_{2r} + C_{2}\\right) Q_{3}}{- C_{2r}^{2} + \\left(C_{2r} + C_{2}\\right) \\left(C_{2r} + C_{r}\\right)}\\right) Q_{3} + \\left(\\frac{0.5 C_{2r} Q_{3}}{- C_{2r}^{2} + \\left(C_{2r} + C_{2}\\right) \\left(C_{2r} + C_{r}\\right)} + \\frac{0.5 \\left(C_{2r} + C_{r}\\right) Q_{2}}{- C_{2r}^{2} + \\left(C_{2r} + C_{2}\\right) \\left(C_{2r} + C_{r}\\right)}\\right) Q_{2} + \\left(\\frac{0.5 L_{1} \\Phi_{2}}{1.0 L_{1} L_{2} - 1.0 M_{12}^{2}} - \\frac{0.5 M_{12} \\Phi_{1}}{1.0 L_{1} L_{2} - 1.0 M_{12}^{2}}\\right) \\Phi_{2} + \\left(\\frac{0.5 L_{2} \\Phi_{1}}{1.0 L_{1} L_{2} - 1.0 M_{12}^{2}} - \\frac{0.5 M_{12} \\Phi_{2}}{1.0 L_{1} L_{2} - 1.0 M_{12}^{2}}\\right) \\Phi_{1} + \\frac{0.5 \\Phi_{3}^{2}}{L_{r}} + \\frac{0.5 Q_{1}^{2}}{C_{1}}\\end{matrix}\\right]$"
      ],
      "text/plain": [
       "Matrix([[-0.5*I_{1}*(e^{i\\phi_{10e}}*D_{1} + conjugate(e^{i\\phi_{10e}})*D^{\\dagger}_{1}) - 0.5*I_{2}*(e^{i\\phi_{20e}}*D_{2} + conjugate(e^{i\\phi_{20e}})*D^{\\dagger}_{2}) + (0.5*C_{2r}*Q_{2}/(-C_{2r}**2 + (C_{2r} + C_{2})*(C_{2r} + C_{r})) + 0.5*(C_{2r} + C_{2})*Q_{3}/(-C_{2r}**2 + (C_{2r} + C_{2})*(C_{2r} + C_{r})))*Q_{3} + (0.5*C_{2r}*Q_{3}/(-C_{2r}**2 + (C_{2r} + C_{2})*(C_{2r} + C_{r})) + 0.5*(C_{2r} + C_{r})*Q_{2}/(-C_{2r}**2 + (C_{2r} + C_{2})*(C_{2r} + C_{r})))*Q_{2} + (0.5*L_{1}*\\Phi_{2}/(1.0*L_{1}*L_{2} - 1.0*M_{12}**2) - 0.5*M_{12}*\\Phi_{1}/(1.0*L_{1}*L_{2} - 1.0*M_{12}**2))*\\Phi_{2} + (0.5*L_{2}*\\Phi_{1}/(1.0*L_{1}*L_{2} - 1.0*M_{12}**2) - 0.5*M_{12}*\\Phi_{2}/(1.0*L_{1}*L_{2} - 1.0*M_{12}**2))*\\Phi_{1} + 0.5*\\Phi_{3}**2/L_{r} + 0.5*Q_{1}**2/C_{1}]])"
      ]
     },
     "execution_count": 56,
     "metadata": {},
     "output_type": "execute_result"
    }
   ],
   "source": [
    "rcircuit.getQuantumHamiltonian()"
   ]
  },
  {
   "cell_type": "code",
   "execution_count": 57,
   "metadata": {},
   "outputs": [
    {
     "name": "stdout",
     "output_type": "stream",
     "text": [
      "Using existing PyCQED tmp output root directory '/tmp/.pycqed/'.\n"
     ]
    }
   ],
   "source": [
    "# Create Hamiltonian generator\n",
    "hamil = HamilSpec(circuit,include_subsystem=\"r\")\n",
    "hamil.setTruncation(1,10,\"charge\")\n",
    "hamil.setTruncation(2,10,\"charge\")\n",
    "hamil.prepareOperators()\n",
    "\n",
    "hamil.setDiagConfig(get_vectors=True,eigvalues=20)\n",
    "\n",
    "# Fabrication parameters\n",
    "Ca = 60.0 # fF/um^2\n",
    "Jc = 3.0  # uA/um^2\n",
    "Aj = 0.2*1.2#0.4**2 # um^2\n",
    "\n",
    "# Set the parameter values\n",
    "hamil.setParameterValues(\n",
    "    'C1',Ca*Aj,\n",
    "    'I1',Jc*Aj,\n",
    "    'L1',550.0,\n",
    "    'C2',Ca*Aj,\n",
    "    'I2',Jc*Aj,\n",
    "    'L2',550.0,\n",
    "    'M12',10.0,\n",
    "    'phi10e',0.5,\n",
    "    'phi20e',0.5,\n",
    "    'Cr',400.0,\n",
    "    'Lr',1000.0,\n",
    "    'C2r',5.0\n",
    ")"
   ]
  },
  {
   "cell_type": "code",
   "execution_count": 58,
   "metadata": {},
   "outputs": [
    {
     "name": "stdout",
     "output_type": "stream",
     "text": [
      "Parameter Sweep Duration:\n",
      "  Initialization:\t3.214 s\n",
      "  Loop duration:\t26.965 s\n",
      "  Avg iteration:\t0.267 s\n"
     ]
    }
   ],
   "source": [
    "# Configure the items to be evaluated\n",
    "evals = [\n",
    "    hamil.evalSpec('getHamiltonian',True,None),\n",
    "    hamil.evalSpec('getResonatorResponse',False,\"getHamiltonian\",eval_dp=True),\n",
    "]\n",
    "spec = [\n",
    "    hamil.sweepSpec('phi20e',0.0,1.0,101)\n",
    "]\n",
    "sweep = hamil.paramSweep(spec,eval_spec=evals,timesweep=True)"
   ]
  },
  {
   "cell_type": "code",
   "execution_count": 59,
   "metadata": {},
   "outputs": [],
   "source": [
    "x,E,v = hamil.getSweep(sweep,'phi20e',{},evaluable='getHamiltonian')"
   ]
  },
  {
   "cell_type": "code",
   "execution_count": 60,
   "metadata": {},
   "outputs": [
    {
     "data": {
      "text/plain": [
       "Text(0, 0.5, '$E_{g,i}$ (GHz)')"
      ]
     },
     "execution_count": 60,
     "metadata": {},
     "output_type": "execute_result"
    },
    {
     "data": {
      "image/png": "[encoded data removed]",
      "text/plain": [
       "<Figure size 432x288 with 1 Axes>"
      ]
     },
     "metadata": {
      "needs_background": "light"
     },
     "output_type": "display_data"
    }
   ],
   "source": [
    "for i in range(5):\n",
    "    plt.plot(x,E[i,0]-E[0,0])\n",
    "plt.xlabel(\"$\\\\Phi_{20e}$ ($\\\\Phi_0$)\")\n",
    "plt.ylabel(\"$E_{g,i}$ (GHz)\")"
   ]
  },
  {
   "cell_type": "code",
   "execution_count": 61,
   "metadata": {},
   "outputs": [],
   "source": [
    "x,Erwa,v = hamil.getSweep(sweep,'phi20e',{},evaluable='getResonatorResponse')"
   ]
  },
  {
   "cell_type": "code",
   "execution_count": 62,
   "metadata": {},
   "outputs": [],
   "source": [
    "Eres = util.getResonatorShift(Erwa)"
   ]
  },
  {
   "cell_type": "code",
   "execution_count": 63,
   "metadata": {},
   "outputs": [
    {
     "data": {
      "text/plain": [
       "Text(0, 0.5, '$\\\\omega_{r}$ (GHz)')"
      ]
     },
     "execution_count": 63,
     "metadata": {},
     "output_type": "execute_result"
    },
    {
     "data": {
      "image/png": "[encoded data removed]",
      "text/plain": [
       "<Figure size 432x288 with 1 Axes>"
      ]
     },
     "metadata": {
      "needs_background": "light"
     },
     "output_type": "display_data"
    }
   ],
   "source": [
    "wr = hamil.dpnp['w']\n",
    "plt.plot(x,Eres[0,0])\n",
    "plt.plot([x[0],x[-1]],[wr,wr],\"k--\")\n",
    "plt.xlabel(\"$\\\\Phi_{20e}$ ($\\\\Phi_0$)\")\n",
    "plt.ylabel(\"$\\omega_{r}$ (GHz)\")"
   ]
  },
  {
   "cell_type": "code",
   "execution_count": 64,
   "metadata": {},
   "outputs": [],
   "source": [
    "hamil.setParameterValue('phi10e',0.495)"
   ]
  },
  {
   "cell_type": "code",
   "execution_count": 65,
   "metadata": {},
   "outputs": [
    {
     "name": "stdout",
     "output_type": "stream",
     "text": [
      "Parameter Sweep Duration:\n",
      "  Initialization:\t3.226 s\n",
      "  Loop duration:\t27.144 s\n",
      "  Avg iteration:\t0.269 s\n"
     ]
    }
   ],
   "source": [
    "sweep = hamil.paramSweep(spec,eval_spec=evals,timesweep=True)"
   ]
  },
  {
   "cell_type": "code",
   "execution_count": 66,
   "metadata": {},
   "outputs": [],
   "source": [
    "x,Erwa,v = hamil.getSweep(sweep,'phi20e',{},evaluable='getResonatorResponse')"
   ]
  },
  {
   "cell_type": "code",
   "execution_count": 67,
   "metadata": {},
   "outputs": [
    {
     "data": {
      "text/plain": [
       "Text(0, 0.5, '$\\\\omega_{r}$ (GHz)')"
      ]
     },
     "execution_count": 67,
     "metadata": {},
     "output_type": "execute_result"
    },
    {
     "data": {
      "image/png": "[encoded data removed]",
      "text/plain": [
       "<Figure size 432x288 with 1 Axes>"
      ]
     },
     "metadata": {
      "needs_background": "light"
     },
     "output_type": "display_data"
    }
   ],
   "source": [
    "wr = hamil.dpnp['w']\n",
    "plt.plot(x,Eres[0,0])\n",
    "plt.plot([x[0],x[-1]],[wr,wr],\"k--\")\n",
    "plt.xlabel(\"$\\\\Phi_{10e}$ ($\\\\Phi_0$)\")\n",
    "plt.ylabel(\"$\\omega_{r}$ (GHz)\")"
   ]
  },
  {
   "cell_type": "markdown",
   "metadata": {},
   "source": [
    "# Full Circuit"
   ]
  },
  {
   "cell_type": "code",
   "execution_count": 70,
   "metadata": {},
   "outputs": [
    {
     "name": "stdout",
     "output_type": "stream",
     "text": [
      "Using existing PyCQED tmp output root directory '/tmp/.pycqed/'.\n"
     ]
    }
   ],
   "source": [
    "hamil = HamilSpec(rcircuit)\n",
    "hamil.setTruncation(1,7,\"charge\")\n",
    "hamil.setTruncation(2,7,\"charge\")\n",
    "hamil.setTruncation(3,7,\"charge\")\n",
    "hamil.prepareOperators()"
   ]
  },
  {
   "cell_type": "code",
   "execution_count": 71,
   "metadata": {},
   "outputs": [
    {
     "data": {
      "text/plain": [
       "3375"
      ]
     },
     "execution_count": 71,
     "metadata": {},
     "output_type": "execute_result"
    }
   ],
   "source": [
    "hamil.getHilbertSpaceSize()"
   ]
  },
  {
   "cell_type": "code",
   "execution_count": 72,
   "metadata": {},
   "outputs": [],
   "source": [
    "# Fabrication parameters\n",
    "Ca = 60.0 # fF/um^2\n",
    "Jc = 3.0  # uA/um^2\n",
    "Aj = 0.2*1.2#0.4**2 # um^2\n",
    "\n",
    "# Set the parameter values\n",
    "hamil.setParameterValues(\n",
    "    'C1',Ca*Aj,\n",
    "    'I1',Jc*Aj,\n",
    "    'L1',550.0,\n",
    "    'C2',Ca*Aj,\n",
    "    'I2',Jc*Aj,\n",
    "    'L2',550.0,\n",
    "    'M12',10.0,\n",
    "    'phi10e',0.5,\n",
    "    'phi20e',0.5,\n",
    "    'Cr',400.0,\n",
    "    'Lr',1000.0,\n",
    "    'C2r',5.0\n",
    ")"
   ]
  },
  {
   "cell_type": "code",
   "execution_count": 73,
   "metadata": {},
   "outputs": [],
   "source": [
    "spec = [\n",
    "    hamil.sweepSpec('phi20e',0.4,0.6,101)\n",
    "]\n",
    "sweep = hamil.paramSweep(spec)"
   ]
  },
  {
   "cell_type": "code",
   "execution_count": 74,
   "metadata": {},
   "outputs": [
    {
     "data": {
      "text/plain": [
       "Text(0, 0.5, '$E_{g,i}$ (GHz)')"
      ]
     },
     "execution_count": 74,
     "metadata": {},
     "output_type": "execute_result"
    },
    {
     "data": {
      "image/png": "[encoded data removed]",
      "text/plain": [
       "<Figure size 432x288 with 1 Axes>"
      ]
     },
     "metadata": {
      "needs_background": "light"
     },
     "output_type": "display_data"
    }
   ],
   "source": [
    "x,Efull,v = hamil.getSweep(sweep,'phi20e',{})\n",
    "for i in range(5):\n",
    "    plt.plot(x,Efull[i]-Efull[0])\n",
    "plt.xlabel(\"$\\\\Phi_{20e}$ ($\\\\Phi_0$)\")\n",
    "plt.ylabel(\"$E_{g,i}$ (GHz)\")"
   ]
  },
  {
   "cell_type": "code",
   "execution_count": null,
   "metadata": {},
   "outputs": [],
   "source": []
  }
 ],
 "metadata": {
  "kernelspec": {
   "display_name": "Python 3",
   "language": "python",
   "name": "python3"
  },
  "language_info": {
   "codemirror_mode": {
    "name": "ipython",
    "version": 3
   },
   "file_extension": ".py",
   "mimetype": "text/x-python",
   "name": "python",
   "nbconvert_exporter": "python",
   "pygments_lexer": "ipython3",
   "version": "3.6.9"
  }
 },
 "nbformat": 4,
 "nbformat_minor": 2
}
